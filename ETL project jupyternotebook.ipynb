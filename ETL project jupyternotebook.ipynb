{
 "cells": [
  {
   "cell_type": "code",
   "execution_count": 1,
   "metadata": {},
   "outputs": [],
   "source": [
    "import pandas as pd\n",
    "from sqlalchemy import create_engine\n",
    "import psycopg2"
   ]
  },
  {
   "cell_type": "code",
   "execution_count": 2,
   "metadata": {},
   "outputs": [
    {
     "data": {
      "text/html": [
       "<div>\n",
       "<style scoped>\n",
       "    .dataframe tbody tr th:only-of-type {\n",
       "        vertical-align: middle;\n",
       "    }\n",
       "\n",
       "    .dataframe tbody tr th {\n",
       "        vertical-align: top;\n",
       "    }\n",
       "\n",
       "    .dataframe thead th {\n",
       "        text-align: right;\n",
       "    }\n",
       "</style>\n",
       "<table border=\"1\" class=\"dataframe\">\n",
       "  <thead>\n",
       "    <tr style=\"text-align: right;\">\n",
       "      <th></th>\n",
       "      <th>Incident_ID</th>\n",
       "      <th>Incident_Date</th>\n",
       "      <th>State</th>\n",
       "      <th>CityorCounty</th>\n",
       "      <th>Num_Killed</th>\n",
       "      <th>Num_Injured</th>\n",
       "    </tr>\n",
       "  </thead>\n",
       "  <tbody>\n",
       "    <tr>\n",
       "      <th>0</th>\n",
       "      <td>2073050</td>\n",
       "      <td>24-Jul-21</td>\n",
       "      <td>Tennessee</td>\n",
       "      <td>Nashville</td>\n",
       "      <td>1</td>\n",
       "      <td>0</td>\n",
       "    </tr>\n",
       "    <tr>\n",
       "      <th>1</th>\n",
       "      <td>2074453</td>\n",
       "      <td>24-Jul-21</td>\n",
       "      <td>Mississippi</td>\n",
       "      <td>Amory</td>\n",
       "      <td>1</td>\n",
       "      <td>0</td>\n",
       "    </tr>\n",
       "    <tr>\n",
       "      <th>2</th>\n",
       "      <td>2075001</td>\n",
       "      <td>23-Jul-21</td>\n",
       "      <td>Nebraska</td>\n",
       "      <td>Beatrice</td>\n",
       "      <td>1</td>\n",
       "      <td>0</td>\n",
       "    </tr>\n",
       "    <tr>\n",
       "      <th>3</th>\n",
       "      <td>2072912</td>\n",
       "      <td>23-Jul-21</td>\n",
       "      <td>Texas</td>\n",
       "      <td>Dallas</td>\n",
       "      <td>1</td>\n",
       "      <td>0</td>\n",
       "    </tr>\n",
       "    <tr>\n",
       "      <th>4</th>\n",
       "      <td>2071018</td>\n",
       "      <td>21-Jul-21</td>\n",
       "      <td>Wisconsin</td>\n",
       "      <td>Eau Claire</td>\n",
       "      <td>1</td>\n",
       "      <td>0</td>\n",
       "    </tr>\n",
       "  </tbody>\n",
       "</table>\n",
       "</div>"
      ],
      "text/plain": [
       "   Incident_ID Incident_Date        State CityorCounty  Num_Killed  \\\n",
       "0      2073050     24-Jul-21    Tennessee    Nashville           1   \n",
       "1      2074453     24-Jul-21  Mississippi        Amory           1   \n",
       "2      2075001     23-Jul-21     Nebraska     Beatrice           1   \n",
       "3      2072912     23-Jul-21        Texas       Dallas           1   \n",
       "4      2071018     21-Jul-21    Wisconsin   Eau Claire           1   \n",
       "\n",
       "   Num_Injured  \n",
       "0            0  \n",
       "1            0  \n",
       "2            0  \n",
       "3            0  \n",
       "4            0  "
      ]
     },
     "execution_count": 2,
     "metadata": {},
     "output_type": "execute_result"
    }
   ],
   "source": [
    "#Store Accidental Death CSV into DataFrame\n",
    "csv_file1 = \"Resources/Accidental_Death_Data.csv\"\n",
    "accidental_death_df = pd.read_csv(csv_file1)\n",
    "accidental_death_df.head()\n",
    "\n",
    "#Clean Accidental Death DataFrame\n",
    "new_accidental_death_df = accidental_death_df[['Incident ID', 'Incident Date', 'State', 'City Or County', '# Killed', '# Injured']].copy()\n",
    "new_accidental_death_df.head()\n",
    "\n",
    "#Rename Columns\n",
    "clean_accidental_death_df = new_accidental_death_df.rename(columns={\"Incident ID\":\"Incident_ID\", \"Incident Date\":\"Incident_Date\", \"State\":\"State\", \"City Or County\":\"CityorCounty\", \"# Killed\":\"Num_Killed\", \"# Injured\":\"Num_Injured\"})\n",
    "clean_accidental_death_df.head()"
   ]
  },
  {
   "cell_type": "code",
   "execution_count": 3,
   "metadata": {},
   "outputs": [
    {
     "data": {
      "text/html": [
       "<div>\n",
       "<style scoped>\n",
       "    .dataframe tbody tr th:only-of-type {\n",
       "        vertical-align: middle;\n",
       "    }\n",
       "\n",
       "    .dataframe tbody tr th {\n",
       "        vertical-align: top;\n",
       "    }\n",
       "\n",
       "    .dataframe thead th {\n",
       "        text-align: right;\n",
       "    }\n",
       "</style>\n",
       "<table border=\"1\" class=\"dataframe\">\n",
       "  <thead>\n",
       "    <tr style=\"text-align: right;\">\n",
       "      <th></th>\n",
       "      <th>Incident_ID</th>\n",
       "      <th>Incident_Date</th>\n",
       "      <th>State</th>\n",
       "      <th>CityorCounty</th>\n",
       "      <th>Num_Killed</th>\n",
       "      <th>Num_Injured</th>\n",
       "    </tr>\n",
       "  </thead>\n",
       "  <tbody>\n",
       "    <tr>\n",
       "      <th>0</th>\n",
       "      <td>2073999</td>\n",
       "      <td>25-Jul-21</td>\n",
       "      <td>Illinois</td>\n",
       "      <td>Chicago</td>\n",
       "      <td>0</td>\n",
       "      <td>1</td>\n",
       "    </tr>\n",
       "    <tr>\n",
       "      <th>1</th>\n",
       "      <td>2074868</td>\n",
       "      <td>25-Jul-21</td>\n",
       "      <td>Texas</td>\n",
       "      <td>San Antonio</td>\n",
       "      <td>0</td>\n",
       "      <td>1</td>\n",
       "    </tr>\n",
       "    <tr>\n",
       "      <th>2</th>\n",
       "      <td>2074722</td>\n",
       "      <td>25-Jul-21</td>\n",
       "      <td>Georgia</td>\n",
       "      <td>Wrightsville</td>\n",
       "      <td>0</td>\n",
       "      <td>1</td>\n",
       "    </tr>\n",
       "    <tr>\n",
       "      <th>3</th>\n",
       "      <td>2072998</td>\n",
       "      <td>24-Jul-21</td>\n",
       "      <td>Texas</td>\n",
       "      <td>Dallas</td>\n",
       "      <td>0</td>\n",
       "      <td>1</td>\n",
       "    </tr>\n",
       "    <tr>\n",
       "      <th>4</th>\n",
       "      <td>2072850</td>\n",
       "      <td>24-Jul-21</td>\n",
       "      <td>Ohio</td>\n",
       "      <td>Cincinnati</td>\n",
       "      <td>0</td>\n",
       "      <td>1</td>\n",
       "    </tr>\n",
       "  </tbody>\n",
       "</table>\n",
       "</div>"
      ],
      "text/plain": [
       "   Incident_ID Incident_Date     State  CityorCounty  Num_Killed  Num_Injured\n",
       "0      2073999     25-Jul-21  Illinois       Chicago           0            1\n",
       "1      2074868     25-Jul-21     Texas   San Antonio           0            1\n",
       "2      2074722     25-Jul-21   Georgia  Wrightsville           0            1\n",
       "3      2072998     24-Jul-21     Texas        Dallas           0            1\n",
       "4      2072850     24-Jul-21      Ohio    Cincinnati           0            1"
      ]
     },
     "execution_count": 3,
     "metadata": {},
     "output_type": "execute_result"
    }
   ],
   "source": [
    "#Store Accidental Injury CSV into DataFrame\n",
    "csv_file2 = \"Resources/Accidental_Injury_Data.csv\"\n",
    "accidental_injury_df = pd.read_csv(csv_file2)\n",
    "accidental_injury_df.head()\n",
    "\n",
    "#Clean Accidental Injury DataFrame\n",
    "new_accidental_injury_df = accidental_injury_df[['Incident ID', 'Incident Date', 'State', 'City Or County', '# Killed', '# Injured']].copy()\n",
    "new_accidental_injury_df.head()\n",
    "\n",
    "#Rename Columns\n",
    "clean_accidental_injury_df = new_accidental_injury_df.rename(columns={\"Incident ID\":\"Incident_ID\", \"Incident Date\":\"Incident_Date\", \"State\":\"State\", \"City Or County\":\"CityorCounty\", \"# Killed\":\"Num_Killed\", \"# Injured\":\"Num_Injured\"})\n",
    "clean_accidental_injury_df.head()\n"
   ]
  },
  {
   "cell_type": "code",
   "execution_count": 4,
   "metadata": {},
   "outputs": [
    {
     "data": {
      "text/html": [
       "<div>\n",
       "<style scoped>\n",
       "    .dataframe tbody tr th:only-of-type {\n",
       "        vertical-align: middle;\n",
       "    }\n",
       "\n",
       "    .dataframe tbody tr th {\n",
       "        vertical-align: top;\n",
       "    }\n",
       "\n",
       "    .dataframe thead th {\n",
       "        text-align: right;\n",
       "    }\n",
       "</style>\n",
       "<table border=\"1\" class=\"dataframe\">\n",
       "  <thead>\n",
       "    <tr style=\"text-align: right;\">\n",
       "      <th></th>\n",
       "      <th>Incident_ID</th>\n",
       "      <th>Incident_Date</th>\n",
       "      <th>State</th>\n",
       "      <th>CityorCounty</th>\n",
       "      <th>Num_Killed</th>\n",
       "      <th>Num_Injured</th>\n",
       "    </tr>\n",
       "  </thead>\n",
       "  <tbody>\n",
       "    <tr>\n",
       "      <th>0</th>\n",
       "      <td>2073597</td>\n",
       "      <td>25-Jul-21</td>\n",
       "      <td>Washington</td>\n",
       "      <td>Seattle</td>\n",
       "      <td>2</td>\n",
       "      <td>3</td>\n",
       "    </tr>\n",
       "    <tr>\n",
       "      <th>1</th>\n",
       "      <td>2074406</td>\n",
       "      <td>25-Jul-21</td>\n",
       "      <td>California</td>\n",
       "      <td>Wasco</td>\n",
       "      <td>5</td>\n",
       "      <td>1</td>\n",
       "    </tr>\n",
       "    <tr>\n",
       "      <th>2</th>\n",
       "      <td>2074353</td>\n",
       "      <td>25-Jul-21</td>\n",
       "      <td>Michigan</td>\n",
       "      <td>Detroit</td>\n",
       "      <td>0</td>\n",
       "      <td>7</td>\n",
       "    </tr>\n",
       "    <tr>\n",
       "      <th>3</th>\n",
       "      <td>2073472</td>\n",
       "      <td>25-Jul-21</td>\n",
       "      <td>Illinois</td>\n",
       "      <td>Chicago</td>\n",
       "      <td>0</td>\n",
       "      <td>5</td>\n",
       "    </tr>\n",
       "    <tr>\n",
       "      <th>4</th>\n",
       "      <td>2072782</td>\n",
       "      <td>24-Jul-21</td>\n",
       "      <td>Ohio</td>\n",
       "      <td>Columbus</td>\n",
       "      <td>0</td>\n",
       "      <td>4</td>\n",
       "    </tr>\n",
       "  </tbody>\n",
       "</table>\n",
       "</div>"
      ],
      "text/plain": [
       "   Incident_ID Incident_Date       State CityorCounty  Num_Killed  Num_Injured\n",
       "0      2073597     25-Jul-21  Washington      Seattle           2            3\n",
       "1      2074406     25-Jul-21  California        Wasco           5            1\n",
       "2      2074353     25-Jul-21    Michigan      Detroit           0            7\n",
       "3      2073472     25-Jul-21    Illinois      Chicago           0            5\n",
       "4      2072782     24-Jul-21        Ohio     Columbus           0            4"
      ]
     },
     "execution_count": 4,
     "metadata": {},
     "output_type": "execute_result"
    }
   ],
   "source": [
    "#Store Mass Shooting CSV into DataFrame\n",
    "csv_file3 = \"Resources/Mass_Shooting_Data.csv\"\n",
    "mass_shooting_df = pd.read_csv(csv_file3)\n",
    "mass_shooting_df.head()\n",
    "\n",
    "#Clean Mass Shooting DataFrame\n",
    "new_mass_shooting_df = mass_shooting_df[['Incident ID', 'Incident Date', 'State', 'City Or County', '# Killed', '# Injured']].copy()\n",
    "new_mass_shooting_df.head()\n",
    "\n",
    "#Rename Columns\n",
    "clean_mass_shooting_df = new_mass_shooting_df.rename(columns={\"Incident ID\":\"Incident_ID\", \"Incident Date\":\"Incident_Date\", \"State\":\"State\", \"City Or County\":\"CityorCounty\", \"# Killed\":\"Num_Killed\", \"# Injured\":\"Num_Injured\"})\n",
    "clean_mass_shooting_df.head()"
   ]
  },
  {
   "cell_type": "code",
   "execution_count": 8,
   "metadata": {},
   "outputs": [],
   "source": [
    "#Create Engine and connection to Database\n",
    "engine = create_engine\n",
    "conn = engine.connect()"
   ]
  },
  {
   "cell_type": "code",
   "execution_count": 9,
   "metadata": {},
   "outputs": [
    {
     "data": {
      "text/plain": [
       "[]"
      ]
     },
     "execution_count": 9,
     "metadata": {},
     "output_type": "execute_result"
    }
   ],
   "source": [
    "#Verify tables\n",
    "engine.table_names()"
   ]
  },
  {
   "cell_type": "code",
   "execution_count": null,
   "metadata": {},
   "outputs": [],
   "source": [
    "#Use pandas to load mass shooting csv into converted DataFrame into database\n",
    "clean_mass_shooting_df.to_sql(name='mass_shootings', con=engine, if_exists='append', index=False)"
   ]
  },
  {
   "cell_type": "code",
   "execution_count": null,
   "metadata": {},
   "outputs": [],
   "source": [
    "#confirm data has been added by querying table\n",
    "pd.read_sql_query('select * from mass_shootings', con=engine).head()"
   ]
  },
  {
   "cell_type": "code",
   "execution_count": null,
   "metadata": {},
   "outputs": [],
   "source": [
    "#Use pandas to load mass shooting csv into converted DataFrame into database\n",
    "clean_accidental_injury_df.to_sql(name='accidental_injuries', con=engine, if_exists='append', index=False)"
   ]
  },
  {
   "cell_type": "code",
   "execution_count": null,
   "metadata": {},
   "outputs": [],
   "source": [
    "#confirm data has been added by querying table\n",
    "pd.read_sql_query('select * from accidental_injuries', con=engine).head()"
   ]
  },
  {
   "cell_type": "code",
   "execution_count": null,
   "metadata": {},
   "outputs": [],
   "source": [
    "#Use pandas to load mass shooting csv into converted DataFrame into database\n",
    "clean_accidental_death_df.to_sql(name='accidental_deaths', con=engine, if_exists='append', index=False)"
   ]
  },
  {
   "cell_type": "code",
   "execution_count": null,
   "metadata": {},
   "outputs": [],
   "source": [
    "confirm data has been added by querying table\n",
    "pd.read_sql_query('select * from accidental_deaths', con=engine).head()"
   ]
  },
  {
   "cell_type": "code",
   "execution_count": null,
   "metadata": {},
   "outputs": [],
   "source": [
    "## Sample queries to address some of project questions\n",
    "\n",
    "#Which States have the highest number of incidents (killed v. injured)\n",
    "# Mass Shootings:\n",
    "\n",
    "Mass_Shootings_State = clean_mass_shooting_df.groupby(\"State\").count().sort_values([\"Num_Killed\"], ascending=False)\n",
    "Mass_Shootings_State"
   ]
  }
 ],
 "metadata": {
  "kernelspec": {
   "display_name": "Python 3",
   "language": "python",
   "name": "python3"
  },
  "language_info": {
   "codemirror_mode": {
    "name": "ipython",
    "version": 3
   },
   "file_extension": ".py",
   "mimetype": "text/x-python",
   "name": "python",
   "nbconvert_exporter": "python",
   "pygments_lexer": "ipython3",
   "version": "3.7.9"
  }
 },
 "nbformat": 4,
 "nbformat_minor": 4
}
